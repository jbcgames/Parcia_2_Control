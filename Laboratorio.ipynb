{
 "cells": [
  {
   "cell_type": "markdown",
   "id": "95453efe",
   "metadata": {},
   "source": [
    "# Parcial 2 Diseño de PID mediante Lugar Geométrico de las Raíces para la planta Térmica\n",
    "- Miguel Angel Alvarez Guzman\n",
    "- Andres David Guerrero Rivera\n",
    "- Jose Vicente Zabaleta Montiel\n",
    "\n",
    "## **Distribucion del trabajo**\n",
    "### Miguel: Especificaciones, polos deseados y cálculo PID\n",
    "**Basicamente Puntos 3 y 4**\n",
    "Responsabilidades:\n",
    "- Definir las especificaciones de desempeño: %OS y Ts.\n",
    "- Calcular ζ y ωn, luego los polos dominantes deseados.\n",
    "- Resolver las condiciones de fase y módulo para obtener Kp, Ti, Td, con ayuda simbólica o numérica.\n",
    "- Ajustar si es necesario para cumplir condiciones.\n",
    "\n",
    "Entregables:\n",
    "- Cálculos desarrollados (puede usar SymPy o MATLAB Symbolic Toolbox).\n",
    "- Tabla con valores obtenidos y justificación\n",
    "- Validación de que el punto cumple ∠L = -180° y |L| = 1\n",
    "\n",
    "### Andres: Simulación y comparación experimental\n",
    "**Basicamente Puntos 5 y 6**\n",
    "Responsabilidades:\n",
    "- Simular la respuesta al escalón de Gcl(s) con los valores hallados.\n",
    "- Implementar el PID en el script de TempLABUdeA.\n",
    "- Realizar la prueba práctica, recolectar los datos de temperatura y control.\n",
    "- Comparar los datos experimentales con la simulación (gráficas, %OS, Ts).\n",
    "\n",
    "Entregables:\n",
    "- Código de simulación y control.\n",
    "- Archivos CSV de los datos experimentales.\n",
    "- Gráficas comparativas: simulación vs experimento.\n",
    "\n",
    "### Jose: Modelado simbólico y trazado del LGR\n",
    "**Basicamente Puntos 1 y 2**\n",
    "Responsabilidades:\n",
    "- Implementar en Python/MATLAB el modelo simbólico de la función de transferencia en lazo abierto L(s).\n",
    "- Verificar que el numerador y denominador cumplan con lo especificado.\n",
    "- Graficar el Lugar Geométrico de las Raíces con valores iniciales de Ti = τ y Td = τ/10.\n",
    "- Identificar el recorrido de los polos al variar Kp.\n",
    "\n",
    "Entregables:\n",
    "- Código con control.matlab o control de Python.\n",
    "- Gráfica del LGR.\n",
    "- Captura/análisis de comportamiento de los polos."
   ]
  }
 ],
 "metadata": {
  "language_info": {
   "name": "python"
  }
 },
 "nbformat": 4,
 "nbformat_minor": 5
}
