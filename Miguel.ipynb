{
 "cells": [
  {
   "cell_type": "markdown",
   "id": "480e6660",
   "metadata": {},
   "source": [
    "Responsabilidades:\n",
    "- Definir las especificaciones de desempeño: %OS y Ts.\n",
    "- Calcular ζ y ωn, luego los polos dominantes deseados.\n",
    "- Resolver las condiciones de fase y módulo para obtener Kp, Ti, Td, con ayuda simbólica o numérica.\n",
    "- Ajustar si es necesario para cumplir condiciones.\n",
    "\n",
    "Entregables:\n",
    "- Cálculos desarrollados (puede usar SymPy o MATLAB Symbolic Toolbox).\n",
    "- Tabla con valores obtenidos y justificación\n",
    "- Validación de que el punto cumple ∠L = -180° y |L| = 1\n"
   ]
  }
 ],
 "metadata": {
  "language_info": {
   "name": "python"
  }
 },
 "nbformat": 4,
 "nbformat_minor": 5
}
