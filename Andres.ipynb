{
 "cells": [
  {
   "cell_type": "markdown",
   "id": "9a6a1655",
   "metadata": {},
   "source": [
    "Responsabilidades:\n",
    "- Simular la respuesta al escalón de Gcl(s) con los valores hallados.\n",
    "- Implementar el PID en el script de TempLABUdeA.\n",
    "- Realizar la prueba práctica, recolectar los datos de temperatura y control.\n",
    "- Comparar los datos experimentales con la simulación (gráficas, %OS, Ts).\n",
    "\n",
    "Entregables:\n",
    "- Código de simulación y control.\n",
    "- Archivos CSV de los datos experimentales.\n",
    "- Gráficas comparativas: simulación vs experimento."
   ]
  },
  {
   "cell_type": "code",
   "execution_count": null,
   "id": "e74698bc",
   "metadata": {},
   "outputs": [
    {
     "name": "stdout",
     "output_type": "stream",
     "text": [
      "Valor de zeta: log(10)/sqrt(log(10)**2 + pi**2)\n",
      "Valor de wn: 3.38320725639016\n"
     ]
    }
   ],
   "source": [
    "from sympy import symbols, Eq, exp, sqrt, pi, solve, N\n",
    "\n",
    "zeta, wn, Ts, OS = symbols('zeta wn Ts OS', real=True, positive=True)\n",
    "\n",
    "OS_value = 10  # 10%\n",
    "Ts_value = 2   # 2 minutos\n",
    "\n",
    "# Ecuación del sobreimpulso (OS ≈ 100 * exp(-pi*zeta / sqrt(1 - zeta**2)))\n",
    "eq1 = Eq(OS, 100 * exp(-pi * zeta / sqrt(1 - zeta**2)))\n",
    "# Ecuación del tiempo de asentamiento (Ts ≈ 4 / (zeta * wn))\n",
    "eq2 = Eq(Ts, 4 / (zeta * wn))\n",
    "# Sustituir valores numéricos\n",
    "eq1_num = eq1.subs(OS, OS_value)\n",
    "eq2_num = eq2.subs(Ts, Ts_value)\n",
    "\n",
    "# Resolver la ecuación de OS para zeta\n",
    "zeta_solutions = solve(eq1_num, zeta)\n",
    "# Evaluar las soluciones numéricamente  \n",
    "zeta_numeric = [N(sol) for sol in zeta_solutions if sol.is_real and sol > 0]\n",
    "# Usar el valor numérico de zeta para encontrar wn\n",
    "\n",
    "\n",
    "wn_val = solve(eq2_num.subs(zeta, zeta_numeric[0]), wn)[0]\n",
    "\n",
    "print(\"Valor de zeta:\", zeta_soc[0])\n",
    "print(\"Valor de wn:\", wn_val)"
   ]
  }
 ],
 "metadata": {
  "kernelspec": {
   "display_name": "Python 3",
   "language": "python",
   "name": "python3"
  },
  "language_info": {
   "codemirror_mode": {
    "name": "ipython",
    "version": 3
   },
   "file_extension": ".py",
   "mimetype": "text/x-python",
   "name": "python",
   "nbconvert_exporter": "python",
   "pygments_lexer": "ipython3",
   "version": "3.13.3"
  }
 },
 "nbformat": 4,
 "nbformat_minor": 5
}
