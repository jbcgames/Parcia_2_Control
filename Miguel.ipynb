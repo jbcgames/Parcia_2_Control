{
 "cells": [
  {
   "cell_type": "markdown",
   "id": "480e6660",
   "metadata": {},
   "source": [
    "Responsabilidades:\n",
    "- Definir las especificaciones de desempeño: %OS y Ts.\n",
    "- Calcular ζ y ωn, luego los polos dominantes deseados.\n",
    "- Resolver las condiciones de fase y módulo para obtener Kp, Ti, Td, con ayuda simbólica o numérica.\n",
    "- Ajustar si es necesario para cumplir condiciones.\n",
    "<!--  -->\n",
    "Entregables:\n",
    "- Cálculos desarrollados (puede usar SymPy o MATLAB Symbolic Toolbox).\n",
    "- Tabla con valores obtenidos y justificación\n",
    "- Validación de que el punto cumple ∠L = -180° y |L| = 1\n"
   ]
  },
  {
   "cell_type": "markdown",
   "id": "656034ec",
   "metadata": {},
   "source": [
    "### Desarrollo\n",
    "- Sobreimpulso (%OS): mide cuánto supera temporalmente la salida su valor final al aplicar una entrada escalón\n",
    "\n",
    "Se calcula así: %OS = $\\frac{Y_{max} - Y_{final}}{Y_{final}}$\n",
    "\n",
    "**Para el Caso actual debera ser de 10%**\n",
    "\n",
    "- Tiempo de asentamiento (Ts): es cuánto tarda la respuesta en mantenerse dentro de un rango pequeño\n",
    "\n",
    "**Para el Caso actual debera ser 2 minutos**"
   ]
  }
 ],
 "metadata": {
  "language_info": {
   "name": "python"
  }
 },
 "nbformat": 4,
 "nbformat_minor": 5
}
