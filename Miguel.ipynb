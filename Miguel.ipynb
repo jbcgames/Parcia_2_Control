{
 "cells": [
  {
   "cell_type": "markdown",
   "id": "480e6660",
   "metadata": {},
   "source": [
    "Responsabilidades:\n",
    "- Definir las especificaciones de desempeño: %OS y Ts.\n",
    "- Calcular ζ y ωn, luego los polos dominantes deseados.\n",
    "- Resolver las condiciones de fase y módulo para obtener Kp, Ti, Td, con ayuda simbólica o numérica.\n",
    "- Ajustar si es necesario para cumplir condiciones.\n",
    "<!--  -->\n",
    "Entregables:\n",
    "- Cálculos desarrollados (puede usar SymPy o MATLAB Symbolic Toolbox).\n",
    "- Tabla con valores obtenidos y justificación\n",
    "- Validación de que el punto cumple ∠L = -180° y |L| = 1\n"
   ]
  },
  {
   "cell_type": "markdown",
   "id": "656034ec",
   "metadata": {},
   "source": [
    "### Desarrollo\n",
    "- Sobreimpulso (%OS): mide cuánto supera temporalmente la salida su valor final al aplicar una entrada escalón\n",
    "\n",
    "Se calcula así: %OS = $\\frac{Y_{max} - Y_{final}}{Y_{final}}$\n",
    "\n",
    "**Para el Caso actual debera ser de 10%**\n",
    "\n",
    "- Tiempo de asentamiento (Ts): es cuánto tarda la respuesta en mantenerse dentro de un rango pequeño\n",
    "\n",
    "**Para el Caso actual debera ser 2 minutos**"
   ]
  },
  {
   "cell_type": "markdown",
   "id": "9d8cb4ec",
   "metadata": {},
   "source": [
    "### Encontrar $\\zeta $ y $w_n$\n",
    "\n",
    "La ecuación para encontrar $\\zeta$ y $\\omega_n$ es:\n",
    "\n",
    "%OS $  \\approx 100, e^{-\\frac{\\pi \\zeta}{\\sqrt{1-\\zeta^2}}} $\n",
    "\n",
    "$ T_s \\approx \\frac{4}{\\zeta \\omega_n}, \\quad \\omega_n = \\text{frecuencia natural}. $\n"
   ]
  },
  {
   "cell_type": "code",
   "execution_count": 6,
   "id": "e9e81ee0",
   "metadata": {},
   "outputs": [
    {
     "name": "stdout",
     "output_type": "stream",
     "text": [
      "Valor de zeta: 0.591155033798898\n",
      "Valor de wn: 3.38320725639016\n"
     ]
    }
   ],
   "source": [
    "from sympy import symbols, Eq, exp, sqrt, pi, solve, N\n",
    "\n",
    "zeta, wn, Ts, OS = symbols('zeta wn Ts OS', real=True, positive=True)\n",
    "\n",
    "OS_value = 10  # 10%\n",
    "Ts_value = 2   # 2 minutos\n",
    "\n",
    "# Ecuación del sobreimpulso (OS ≈ 100 * exp(-pi*zeta / sqrt(1 - zeta**2)))\n",
    "eq1 = Eq(OS, 100 * exp(-pi * zeta / sqrt(1 - zeta**2)))\n",
    "# Ecuación del tiempo de asentamiento (Ts ≈ 4 / (zeta * wn))\n",
    "eq2 = Eq(Ts, 4 / (zeta * wn))\n",
    "# Sustituir valores numéricos\n",
    "eq1_num = eq1.subs(OS, OS_value)\n",
    "eq2_num = eq2.subs(Ts, Ts_value)\n",
    "\n",
    "# Resolver la ecuación de OS para zeta\n",
    "zeta_solutions = solve(eq1_num, zeta)\n",
    "# Evaluar las soluciones numéricamente  \n",
    "zeta_numeric = [N(sol) for sol in zeta_solutions if sol.is_real and sol > 0]\n",
    "# Usar el valor numérico de zeta para encontrar wn\n",
    "wn_val = solve(eq2_num.subs(zeta, zeta_numeric[0]), wn)[0]\n",
    "zeta= zeta_numeric[0]\n",
    "print(\"Valor de zeta:\", zeta)\n",
    "print(\"Valor de wn:\", wn_val)"
   ]
  },
  {
   "cell_type": "markdown",
   "id": "832571b4",
   "metadata": {},
   "source": [
    "$ s_{1,2} = -\\zeta \\omega_n \\pm j \\omega_n \\sqrt{1 - \\zeta^2} $  "
   ]
  },
  {
   "cell_type": "code",
   "execution_count": 9,
   "id": "bb4c3ac3",
   "metadata": {},
   "outputs": [
    {
     "name": "stdout",
     "output_type": "stream",
     "text": [
      "Polo S1: -2.0 + 2.72875270768368*I\n",
      "Polo S2: -2.0 - 2.72875270768368*I\n"
     ]
    }
   ],
   "source": [
    "s1 = symbols('s1', real=True, positive=True)\n",
    "# Ecuación del polo dominante\n",
    "first_pole = -zeta * wn_val + wn_val * sqrt(1 - zeta**2)*1j\n",
    "print(\"Polo S1:\", first_pole)\n",
    "s2 = symbols('s2', real=True, positive=True)\n",
    "# Ecuación del segundo polo\n",
    "second_pole = -zeta * wn_val - wn_val * sqrt(1 - zeta**2)*1j\n",
    "print(\"Polo S2:\", second_pole)"
   ]
  }
 ],
 "metadata": {
  "kernelspec": {
   "display_name": "Python 3",
   "language": "python",
   "name": "python3"
  },
  "language_info": {
   "codemirror_mode": {
    "name": "ipython",
    "version": 3
   },
   "file_extension": ".py",
   "mimetype": "text/x-python",
   "name": "python",
   "nbconvert_exporter": "python",
   "pygments_lexer": "ipython3",
   "version": "3.13.3"
  }
 },
 "nbformat": 4,
 "nbformat_minor": 5
}
