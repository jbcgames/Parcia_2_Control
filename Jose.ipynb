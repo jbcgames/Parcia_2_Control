{
 "cells": [
  {
   "cell_type": "markdown",
   "id": "ac398704",
   "metadata": {},
   "source": [
    "Responsabilidades:\n",
    "- Implementar en Python/MATLAB el modelo simbólico de la función de transferencia en lazo abierto L(s).\n",
    "- Verificar que el numerador y denominador cumplan con lo especificado.\n",
    "- Graficar el Lugar Geométrico de las Raíces con valores iniciales de Ti = τ y Td = τ/10.\n",
    "- Identificar el recorrido de los polos al variar Kp.\n",
    "\n",
    "Entregables:\n",
    "- Código con control.matlab o control de Python.\n",
    "- Gráfica del LGR.\n",
    "- Captura/análisis de comportamiento de los polos."
   ]
  }
 ],
 "metadata": {
  "language_info": {
   "name": "python"
  }
 },
 "nbformat": 4,
 "nbformat_minor": 5
}
