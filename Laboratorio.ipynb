{
 "cells": [
  {
   "cell_type": "markdown",
   "id": "95453efe",
   "metadata": {},
   "source": [
    "# Parcial 2 Diseño de PID mediante Lugar Geométrico de las Raíces para la planta Térmica\n",
    "- Miguel Angel Alvarez Guzman\n",
    "- Andres David Guerrero Rivera\n",
    "- Jose Vicente Zabaleta Montiel\n",
    "\n",
    "## **Distribucion del trabajo**\n",
    "### Miguel: Especificaciones, polos deseados y cálculo PID\n",
    "**Basicamente Puntos 3 y 4**\n",
    "Responsabilidades:\n",
    "- Definir las especificaciones de desempeño: %OS y Ts.\n",
    "- Calcular ζ y ωn, luego los polos dominantes deseados.\n",
    "- Resolver las condiciones de fase y módulo para obtener Kp, Ti, Td, con ayuda simbólica o numérica.\n",
    "- Ajustar si es necesario para cumplir condiciones.\n",
    "\n",
    "Entregables:\n",
    "- Cálculos desarrollados (puede usar SymPy o MATLAB Symbolic Toolbox).\n",
    "- Tabla con valores obtenidos y justificación\n",
    "- Validación de que el punto cumple ∠L = -180° y |L| = 1\n",
    "\n",
    "### Andres: Simulación y comparación experimental\n",
    "**Basicamente Puntos 5 y 6**\n",
    "Responsabilidades:\n",
    "- Simular la respuesta al escalón de Gcl(s) con los valores hallados.\n",
    "- Implementar el PID en el script de TempLABUdeA.\n",
    "- Realizar la prueba práctica, recolectar los datos de temperatura y control.\n",
    "- Comparar los datos experimentales con la simulación (gráficas, %OS, Ts).\n",
    "\n",
    "Entregables:\n",
    "- Código de simulación y control.\n",
    "- Archivos CSV de los datos experimentales.\n",
    "- Gráficas comparativas: simulación vs experimento.\n",
    "\n",
    "### Jose: Modelado simbólico y trazado del LGR\n",
    "**Basicamente Puntos 1 y 2**\n",
    "Responsabilidades:\n",
    "- Implementar en Python/MATLAB el modelo simbólico de la función de transferencia en lazo abierto L(s).\n",
    "- Verificar que el numerador y denominador cumplan con lo especificado.\n",
    "- Graficar el Lugar Geométrico de las Raíces con valores iniciales de Ti = τ y Td = τ/10.\n",
    "- Identificar el recorrido de los polos al variar Kp.\n",
    "\n",
    "Entregables:\n",
    "- Código con control.matlab o control de Python.\n",
    "- Gráfica del LGR.\n",
    "- Captura/análisis de comportamiento de los polos."
   ]
  },
  {
   "cell_type": "markdown",
   "id": "19fc8b57",
   "metadata": {},
   "source": [
    "# Resultados"
   ]
  },
  {
   "cell_type": "code",
   "execution_count": null,
   "id": "7d9b2a4b",
   "metadata": {},
   "outputs": [
    {
     "name": "stdout",
     "output_type": "stream",
     "text": [
      "Requirement already satisfied: control in c:\\users\\user\\appdata\\local\\programs\\python\\python313\\lib\\site-packages (0.10.1)\n",
      "Requirement already satisfied: matplotlib in c:\\users\\user\\appdata\\local\\programs\\python\\python313\\lib\\site-packages (3.10.1)\n",
      "Requirement already satisfied: numpy in c:\\users\\user\\appdata\\local\\programs\\python\\python313\\lib\\site-packages (2.2.5)\n",
      "Collecting ipywidgets\n",
      "  Downloading ipywidgets-8.1.7-py3-none-any.whl.metadata (2.4 kB)\n",
      "Requirement already satisfied: scipy>=1.8 in c:\\users\\user\\appdata\\local\\programs\\python\\python313\\lib\\site-packages (from control) (1.15.2)\n",
      "Requirement already satisfied: contourpy>=1.0.1 in c:\\users\\user\\appdata\\local\\programs\\python\\python313\\lib\\site-packages (from matplotlib) (1.3.2)\n",
      "Requirement already satisfied: cycler>=0.10 in c:\\users\\user\\appdata\\local\\programs\\python\\python313\\lib\\site-packages (from matplotlib) (0.12.1)\n",
      "Requirement already satisfied: fonttools>=4.22.0 in c:\\users\\user\\appdata\\local\\programs\\python\\python313\\lib\\site-packages (from matplotlib) (4.57.0)\n",
      "Requirement already satisfied: kiwisolver>=1.3.1 in c:\\users\\user\\appdata\\local\\programs\\python\\python313\\lib\\site-packages (from matplotlib) (1.4.8)\n",
      "Requirement already satisfied: packaging>=20.0 in c:\\users\\user\\appdata\\roaming\\python\\python313\\site-packages (from matplotlib) (25.0)\n",
      "Requirement already satisfied: pillow>=8 in c:\\users\\user\\appdata\\local\\programs\\python\\python313\\lib\\site-packages (from matplotlib) (11.2.1)\n",
      "Requirement already satisfied: pyparsing>=2.3.1 in c:\\users\\user\\appdata\\local\\programs\\python\\python313\\lib\\site-packages (from matplotlib) (3.2.3)\n",
      "Requirement already satisfied: python-dateutil>=2.7 in c:\\users\\user\\appdata\\roaming\\python\\python313\\site-packages (from matplotlib) (2.9.0.post0)\n",
      "Requirement already satisfied: comm>=0.1.3 in c:\\users\\user\\appdata\\roaming\\python\\python313\\site-packages (from ipywidgets) (0.2.2)\n",
      "Requirement already satisfied: ipython>=6.1.0 in c:\\users\\user\\appdata\\roaming\\python\\python313\\site-packages (from ipywidgets) (9.1.0)\n",
      "Requirement already satisfied: traitlets>=4.3.1 in c:\\users\\user\\appdata\\roaming\\python\\python313\\site-packages (from ipywidgets) (5.14.3)\n",
      "Collecting widgetsnbextension~=4.0.14 (from ipywidgets)\n",
      "  Downloading widgetsnbextension-4.0.14-py3-none-any.whl.metadata (1.6 kB)\n",
      "Collecting jupyterlab_widgets~=3.0.15 (from ipywidgets)\n",
      "  Downloading jupyterlab_widgets-3.0.15-py3-none-any.whl.metadata (20 kB)\n",
      "Requirement already satisfied: colorama in c:\\users\\user\\appdata\\roaming\\python\\python313\\site-packages (from ipython>=6.1.0->ipywidgets) (0.4.6)\n",
      "Requirement already satisfied: decorator in c:\\users\\user\\appdata\\roaming\\python\\python313\\site-packages (from ipython>=6.1.0->ipywidgets) (5.2.1)\n",
      "Requirement already satisfied: ipython-pygments-lexers in c:\\users\\user\\appdata\\roaming\\python\\python313\\site-packages (from ipython>=6.1.0->ipywidgets) (1.1.1)\n",
      "Requirement already satisfied: jedi>=0.16 in c:\\users\\user\\appdata\\roaming\\python\\python313\\site-packages (from ipython>=6.1.0->ipywidgets) (0.19.2)\n",
      "Requirement already satisfied: matplotlib-inline in c:\\users\\user\\appdata\\roaming\\python\\python313\\site-packages (from ipython>=6.1.0->ipywidgets) (0.1.7)\n",
      "Requirement already satisfied: prompt_toolkit<3.1.0,>=3.0.41 in c:\\users\\user\\appdata\\roaming\\python\\python313\\site-packages (from ipython>=6.1.0->ipywidgets) (3.0.51)\n",
      "Requirement already satisfied: pygments>=2.4.0 in c:\\users\\user\\appdata\\roaming\\python\\python313\\site-packages (from ipython>=6.1.0->ipywidgets) (2.19.1)\n",
      "Requirement already satisfied: stack_data in c:\\users\\user\\appdata\\roaming\\python\\python313\\site-packages (from ipython>=6.1.0->ipywidgets) (0.6.3)\n",
      "Requirement already satisfied: six>=1.5 in c:\\users\\user\\appdata\\roaming\\python\\python313\\site-packages (from python-dateutil>=2.7->matplotlib) (1.17.0)\n",
      "Requirement already satisfied: parso<0.9.0,>=0.8.4 in c:\\users\\user\\appdata\\roaming\\python\\python313\\site-packages (from jedi>=0.16->ipython>=6.1.0->ipywidgets) (0.8.4)\n",
      "Requirement already satisfied: wcwidth in c:\\users\\user\\appdata\\roaming\\python\\python313\\site-packages (from prompt_toolkit<3.1.0,>=3.0.41->ipython>=6.1.0->ipywidgets) (0.2.13)\n",
      "Requirement already satisfied: executing>=1.2.0 in c:\\users\\user\\appdata\\roaming\\python\\python313\\site-packages (from stack_data->ipython>=6.1.0->ipywidgets) (2.2.0)\n",
      "Requirement already satisfied: asttokens>=2.1.0 in c:\\users\\user\\appdata\\roaming\\python\\python313\\site-packages (from stack_data->ipython>=6.1.0->ipywidgets) (3.0.0)\n",
      "Requirement already satisfied: pure-eval in c:\\users\\user\\appdata\\roaming\\python\\python313\\site-packages (from stack_data->ipython>=6.1.0->ipywidgets) (0.2.3)\n",
      "Downloading ipywidgets-8.1.7-py3-none-any.whl (139 kB)\n",
      "Downloading jupyterlab_widgets-3.0.15-py3-none-any.whl (216 kB)\n",
      "Downloading widgetsnbextension-4.0.14-py3-none-any.whl (2.2 MB)\n",
      "   ---------------------------------------- 0.0/2.2 MB ? eta -:--:--\n",
      "   ---------------------------------------- 0.0/2.2 MB ? eta -:--:--\n",
      "   ---------------------------------------- 0.0/2.2 MB ? eta -:--:--\n",
      "   ---------------------------------------- 0.0/2.2 MB ? eta -:--:--\n",
      "   ---------------------------------------- 0.0/2.2 MB ? eta -:--:--\n",
      "   ---------------------------------------- 0.0/2.2 MB ? eta -:--:--\n",
      "   ---------------------------------------- 0.0/2.2 MB ? eta -:--:--\n",
      "   ---------------------------------------- 0.0/2.2 MB ? eta -:--:--\n",
      "   ---------------------------------------- 0.0/2.2 MB ? eta -:--:--\n",
      "   ---------------------------------------- 0.0/2.2 MB ? eta -:--:--\n",
      "   ---------------------------------------- 0.0/2.2 MB ? eta -:--:--\n",
      "   ---------------------------------------- 0.0/2.2 MB ? eta -:--:--\n",
      "   ---- ----------------------------------- 0.3/2.2 MB ? eta -:--:--\n",
      "   ---- ----------------------------------- 0.3/2.2 MB ? eta -:--:--\n",
      "   ---- ----------------------------------- 0.3/2.2 MB ? eta -:--:--\n",
      "   ---- ----------------------------------- 0.3/2.2 MB ? eta -:--:--\n",
      "   ---- ----------------------------------- 0.3/2.2 MB ? eta -:--:--\n",
      "   ---- ----------------------------------- 0.3/2.2 MB ? eta -:--:--\n",
      "   ---- ----------------------------------- 0.3/2.2 MB ? eta -:--:--\n",
      "   ---- ----------------------------------- 0.3/2.2 MB ? eta -:--:--\n",
      "   ---- ----------------------------------- 0.3/2.2 MB ? eta -:--:--\n",
      "   ---- ----------------------------------- 0.3/2.2 MB ? eta -:--:--\n",
      "   --------- ------------------------------ 0.5/2.2 MB 123.5 kB/s eta 0:00:14\n",
      "   --------- ------------------------------ 0.5/2.2 MB 123.5 kB/s eta 0:00:14\n",
      "   --------- ------------------------------ 0.5/2.2 MB 123.5 kB/s eta 0:00:14\n",
      "   --------- ------------------------------ 0.5/2.2 MB 123.5 kB/s eta 0:00:14\n",
      "   --------- ------------------------------ 0.5/2.2 MB 123.5 kB/s eta 0:00:14\n",
      "   --------- ------------------------------ 0.5/2.2 MB 123.5 kB/s eta 0:00:14\n",
      "   --------- ------------------------------ 0.5/2.2 MB 123.5 kB/s eta 0:00:14\n",
      "   --------- ------------------------------ 0.5/2.2 MB 123.5 kB/s eta 0:00:14\n",
      "   --------- ------------------------------ 0.5/2.2 MB 123.5 kB/s eta 0:00:14\n",
      "   --------- ------------------------------ 0.5/2.2 MB 123.5 kB/s eta 0:00:14\n",
      "   --------- ------------------------------ 0.5/2.2 MB 123.5 kB/s eta 0:00:14\n",
      "   -------------- ------------------------- 0.8/2.2 MB 115.5 kB/s eta 0:00:13\n",
      "   -------------- ------------------------- 0.8/2.2 MB 115.5 kB/s eta 0:00:13\n",
      "   -------------- ------------------------- 0.8/2.2 MB 115.5 kB/s eta 0:00:13\n",
      "   -------------- ------------------------- 0.8/2.2 MB 115.5 kB/s eta 0:00:13\n",
      "   -------------- ------------------------- 0.8/2.2 MB 115.5 kB/s eta 0:00:13\n",
      "   -------------- ------------------------- 0.8/2.2 MB 115.5 kB/s eta 0:00:13\n",
      "   -------------- ------------------------- 0.8/2.2 MB 115.5 kB/s eta 0:00:13\n",
      "   -------------- ------------------------- 0.8/2.2 MB 115.5 kB/s eta 0:00:13\n",
      "   -------------- ------------------------- 0.8/2.2 MB 115.5 kB/s eta 0:00:13\n",
      "   ------------------- -------------------- 1.0/2.2 MB 122.4 kB/s eta 0:00:10\n",
      "   ------------------- -------------------- 1.0/2.2 MB 122.4 kB/s eta 0:00:10\n",
      "   ------------------- -------------------- 1.0/2.2 MB 122.4 kB/s eta 0:00:10\n",
      "   ------------------- -------------------- 1.0/2.2 MB 122.4 kB/s eta 0:00:10\n",
      "   ------------------- -------------------- 1.0/2.2 MB 122.4 kB/s eta 0:00:10\n",
      "   ------------------- -------------------- 1.0/2.2 MB 122.4 kB/s eta 0:00:10\n",
      "   ------------------- -------------------- 1.0/2.2 MB 122.4 kB/s eta 0:00:10\n",
      "   ------------------- -------------------- 1.0/2.2 MB 122.4 kB/s eta 0:00:10\n",
      "   ------------------- -------------------- 1.0/2.2 MB 122.4 kB/s eta 0:00:10\n",
      "   ------------------- -------------------- 1.0/2.2 MB 122.4 kB/s eta 0:00:10\n",
      "   ------------------- -------------------- 1.0/2.2 MB 122.4 kB/s eta 0:00:10\n",
      "   ------------------- -------------------- 1.0/2.2 MB 122.4 kB/s eta 0:00:10\n",
      "   ------------------- -------------------- 1.0/2.2 MB 122.4 kB/s eta 0:00:10\n",
      "   ------------------- -------------------- 1.0/2.2 MB 122.4 kB/s eta 0:00:10\n",
      "   ------------------- -------------------- 1.0/2.2 MB 122.4 kB/s eta 0:00:10\n",
      "   ----------------------- ---------------- 1.3/2.2 MB 108.2 kB/s eta 0:00:09\n",
      "   ----------------------- ---------------- 1.3/2.2 MB 108.2 kB/s eta 0:00:09\n",
      "   ----------------------- ---------------- 1.3/2.2 MB 108.2 kB/s eta 0:00:09\n",
      "   ----------------------- ---------------- 1.3/2.2 MB 108.2 kB/s eta 0:00:09\n",
      "   ----------------------- ---------------- 1.3/2.2 MB 108.2 kB/s eta 0:00:09\n",
      "   ----------------------- ---------------- 1.3/2.2 MB 108.2 kB/s eta 0:00:09\n",
      "   ----------------------- ---------------- 1.3/2.2 MB 108.2 kB/s eta 0:00:09\n",
      "   ----------------------- ---------------- 1.3/2.2 MB 108.2 kB/s eta 0:00:09\n",
      "   ----------------------- ---------------- 1.3/2.2 MB 108.2 kB/s eta 0:00:09\n",
      "   ----------------------- ---------------- 1.3/2.2 MB 108.2 kB/s eta 0:00:09\n",
      "   ----------------------- ---------------- 1.3/2.2 MB 108.2 kB/s eta 0:00:09\n",
      "   ---------------------------- ----------- 1.6/2.2 MB 107.5 kB/s eta 0:00:06\n",
      "   ---------------------------- ----------- 1.6/2.2 MB 107.5 kB/s eta 0:00:06\n",
      "   ---------------------------- ----------- 1.6/2.2 MB 107.5 kB/s eta 0:00:06\n",
      "   ---------------------------- ----------- 1.6/2.2 MB 107.5 kB/s eta 0:00:06\n",
      "   ---------------------------- ----------- 1.6/2.2 MB 107.5 kB/s eta 0:00:06\n",
      "   ---------------------------- ----------- 1.6/2.2 MB 107.5 kB/s eta 0:00:06\n",
      "   ---------------------------- ----------- 1.6/2.2 MB 107.5 kB/s eta 0:00:06\n",
      "   ---------------------------- ----------- 1.6/2.2 MB 107.5 kB/s eta 0:00:06\n",
      "   ---------------------------- ----------- 1.6/2.2 MB 107.5 kB/s eta 0:00:06\n",
      "   ---------------------------- ----------- 1.6/2.2 MB 107.5 kB/s eta 0:00:06\n",
      "   ---------------------------- ----------- 1.6/2.2 MB 107.5 kB/s eta 0:00:06\n",
      "   ---------------------------- ----------- 1.6/2.2 MB 107.5 kB/s eta 0:00:06\n",
      "   ---------------------------- ----------- 1.6/2.2 MB 107.5 kB/s eta 0:00:06\n",
      "   ---------------------------- ----------- 1.6/2.2 MB 107.5 kB/s eta 0:00:06\n",
      "   ---------------------------- ----------- 1.6/2.2 MB 107.5 kB/s eta 0:00:06\n",
      "   --------------------------------- ------ 1.8/2.2 MB 102.3 kB/s eta 0:00:04\n",
      "   --------------------------------- ------ 1.8/2.2 MB 102.3 kB/s eta 0:00:04\n",
      "   --------------------------------- ------ 1.8/2.2 MB 102.3 kB/s eta 0:00:04\n",
      "   --------------------------------- ------ 1.8/2.2 MB 102.3 kB/s eta 0:00:04\n",
      "   --------------------------------- ------ 1.8/2.2 MB 102.3 kB/s eta 0:00:04\n",
      "   --------------------------------- ------ 1.8/2.2 MB 102.3 kB/s eta 0:00:04\n",
      "   --------------------------------- ------ 1.8/2.2 MB 102.3 kB/s eta 0:00:04\n",
      "   --------------------------------- ------ 1.8/2.2 MB 102.3 kB/s eta 0:00:04\n",
      "   --------------------------------- ------ 1.8/2.2 MB 102.3 kB/s eta 0:00:04\n",
      "   --------------------------------- ------ 1.8/2.2 MB 102.3 kB/s eta 0:00:04\n",
      "   --------------------------------- ------ 1.8/2.2 MB 102.3 kB/s eta 0:00:04\n",
      "   --------------------------------- ------ 1.8/2.2 MB 102.3 kB/s eta 0:00:04\n",
      "   --------------------------------- ------ 1.8/2.2 MB 102.3 kB/s eta 0:00:04\n",
      "   --------------------------------- ------ 1.8/2.2 MB 102.3 kB/s eta 0:00:04\n",
      "   --------------------------------- ------ 1.8/2.2 MB 102.3 kB/s eta 0:00:04\n",
      "   --------------------------------- ------ 1.8/2.2 MB 102.3 kB/s eta 0:00:04\n",
      "   --------------------------------- ------ 1.8/2.2 MB 102.3 kB/s eta 0:00:04\n",
      "   --------------------------------- ------ 1.8/2.2 MB 102.3 kB/s eta 0:00:04\n",
      "   -------------------------------------- - 2.1/2.2 MB 94.6 kB/s eta 0:00:02\n",
      "   -------------------------------------- - 2.1/2.2 MB 94.6 kB/s eta 0:00:02\n",
      "   -------------------------------------- - 2.1/2.2 MB 94.6 kB/s eta 0:00:02\n",
      "   -------------------------------------- - 2.1/2.2 MB 94.6 kB/s eta 0:00:02\n",
      "   -------------------------------------- - 2.1/2.2 MB 94.6 kB/s eta 0:00:02\n",
      "   ---------------------------------------- 2.2/2.2 MB 94.9 kB/s eta 0:00:00\n",
      "Installing collected packages: widgetsnbextension, jupyterlab_widgets, ipywidgets\n",
      "Successfully installed ipywidgets-8.1.7 jupyterlab_widgets-3.0.15 widgetsnbextension-4.0.14\n"
     ]
    },
    {
     "name": "stderr",
     "output_type": "stream",
     "text": [
      "\n",
      "[notice] A new release of pip is available: 24.3.1 -> 25.1.1\n",
      "[notice] To update, run: python.exe -m pip install --upgrade pip\n"
     ]
    }
   ],
   "source": [
    "! pip install control matplotlib numpy ipywidgets sympy"
   ]
  },
  {
   "cell_type": "markdown",
   "id": "24ac33c2",
   "metadata": {},
   "source": [
    "## 1. Función de transferencia en lazo abierto"
   ]
  },
  {
   "cell_type": "code",
   "execution_count": null,
   "id": "0f29f68c",
   "metadata": {},
   "outputs": [
    {
     "name": "stdout",
     "output_type": "stream",
     "text": [
      "L(s) = K*K_p*(T_i*s*(T_d*s + 1) + 1)/(T_i*s*(s*tau + 1))\n",
      "Numerador de L(s): K*K_p*(T_i*s*(T_d*s + 1) + 1)\n",
      "Denominador de L(s): T_i*s*(s*tau + 1)\n"
     ]
    }
   ],
   "source": [
    "from sympy import symbols, simplify\n",
    "\n",
    "s, Kp, K, Ti, Td, tau = symbols('s K_p K T_i T_d tau')  \n",
    "\n",
    "G_PID = Kp * (1 + 1/(Ti * s) + Td * s)  \n",
    "G_PID = simplify(G_PID)  # Combina términos\n",
    "\n",
    "# Función de la planta\n",
    "G_planta = K / (tau * s + 1)\n",
    "\n",
    "# Función en lazo abierto\n",
    "L = G_PID * G_planta\n",
    "L = simplify(L)\n",
    "print(\"L(s) =\", L)\n",
    "#Numerador y denominador de L\n",
    "num_L, den_L = L.as_numer_denom()\n",
    "print(\"Numerador de L(s):\", num_L)\n",
    "print(\"Denominador de L(s):\", den_L)\n"
   ]
  },
  {
   "cell_type": "markdown",
   "id": "0168105d",
   "metadata": {},
   "source": [
    "## 2. Trazado del Lugar Geométrico de las Raíces"
   ]
  },
  {
   "cell_type": "code",
   "execution_count": 2,
   "id": "9d2a24e3",
   "metadata": {},
   "outputs": [
    {
     "data": {
      "application/vnd.jupyter.widget-view+json": {
       "model_id": "a70763d0cd804c8ebd56ac08692314ab",
       "version_major": 2,
       "version_minor": 0
      },
      "text/plain": [
       "interactive(children=(IntSlider(value=150, description='Kp_pid', max=300, min=1), Output()), _dom_classes=('wi…"
      ]
     },
     "metadata": {},
     "output_type": "display_data"
    },
    {
     "data": {
      "text/plain": [
       "<function __main__.graficar_lugar_geometrico_pid(Kp_pid)>"
      ]
     },
     "execution_count": 2,
     "metadata": {},
     "output_type": "execute_result"
    }
   ],
   "source": [
    "import control as ctrl\n",
    "import matplotlib.pyplot as plt\n",
    "import numpy as np\n",
    "from ipywidgets import interact\n",
    "# Parámetros del sistema\n",
    "def graficar_lugar_geometrico_pid(Kp_pid):\n",
    "    Kp_sys = 0.3593\n",
    "    tau = 171.7428\n",
    "\n",
    "    # PID: parámetros iniciales\n",
    "    Ti = tau\n",
    "    Td = tau / 10\n",
    "\n",
    "    # Controlador PID: Kp*(1 + 1/(Ti*s) + Td*s)\n",
    "    # Se escribe como (Kp*Td*s^2 + Kp*s + Kp/Ti) / s\n",
    "    num_pid = [Kp_pid * Td, Kp_pid, Kp_pid / Ti]\n",
    "    den_pid = [1, 0]\n",
    "\n",
    "    G_pid = ctrl.TransferFunction(num_pid, den_pid)\n",
    "    G_plant = ctrl.TransferFunction([Kp_sys], [tau, 1])\n",
    "\n",
    "    # Sistema en lazo abierto\n",
    "    L = G_pid * G_plant\n",
    "\n",
    "    # Vector de ganancias a evaluar\n",
    "    k_vect = np.linspace(0, 10, 500)\n",
    "\n",
    "    # Graficar LGR\n",
    "    plt.figure(figsize=(8, 5))\n",
    "    ctrl.root_locus(L, kvect=k_vect, grid=True)\n",
    "    plt.title(\"Lugar Geométrico de las Raíces con PID\")\n",
    "    plt.xlabel(\"Re\")\n",
    "    plt.xlim([-0.05, 0.01])  # o ajusta según lo que veas\n",
    "\n",
    "    plt.ylabel(\"Im\")\n",
    "    plt.axvline(x=0, color='r', linestyle='--')  # Eje de estabilidad\n",
    "    plt.show()\n",
    "interact(graficar_lugar_geometrico_pid, Kp_pid=(1, 300, 1))\n"
   ]
  },
  {
   "cell_type": "markdown",
   "id": "7b613b52",
   "metadata": {},
   "source": [
    "### 3. Desarrollo\n",
    "- Sobreimpulso (%OS): mide cuánto supera temporalmente la salida su valor final al aplicar una entrada escalón\n",
    "\n",
    "Se calcula así: %OS = $\\frac{Y_{max} - Y_{final}}{Y_{final}}$\n",
    "\n",
    "**Para el Caso actual debera ser de 10%**\n",
    "\n",
    "- Tiempo de asentamiento (Ts): es cuánto tarda la respuesta en mantenerse dentro de un rango pequeño\n",
    "\n",
    "**Para el Caso actual debera ser 2 minutos**"
   ]
  },
  {
   "cell_type": "markdown",
   "id": "e255ecd6",
   "metadata": {},
   "source": [
    "### Encontrar $\\zeta $ y $w_n$\n",
    "\n",
    "La ecuación para encontrar $\\zeta$ y $\\omega_n$ es:\n",
    "\n",
    "%OS $  \\approx 100, e^{-\\frac{\\pi \\zeta}{\\sqrt{1-\\zeta^2}}} $\n",
    "\n",
    "$ T_s \\approx \\frac{4}{\\zeta \\omega_n}, \\quad \\omega_n = \\text{frecuencia natural}. $\n"
   ]
  },
  {
   "cell_type": "code",
   "execution_count": null,
   "id": "e826f7e2",
   "metadata": {},
   "outputs": [
    {
     "name": "stdout",
     "output_type": "stream",
     "text": [
      "Valor de zeta: 0.591155033798898\n",
      "Valor de wn: 3.38320725639016\n"
     ]
    }
   ],
   "source": [
    "from sympy import symbols, Eq, exp, sqrt, pi, solve, N\n",
    "\n",
    "zeta, wn, Ts, OS = symbols('zeta wn Ts OS', real=True, positive=True)\n",
    "\n",
    "OS_value = 10  # 10%\n",
    "Ts_value = 2   # 2 minutos\n",
    "\n",
    "# Ecuación del sobreimpulso (OS ≈ 100 * exp(-pi*zeta / sqrt(1 - zeta**2)))\n",
    "eq1 = Eq(OS, 100 * exp(-pi * zeta / sqrt(1 - zeta**2)))\n",
    "# Ecuación del tiempo de asentamiento (Ts ≈ 4 / (zeta * wn))\n",
    "eq2 = Eq(Ts, 4 / (zeta * wn))\n",
    "# Sustituir valores numéricos\n",
    "eq1_num = eq1.subs(OS, OS_value)\n",
    "eq2_num = eq2.subs(Ts, Ts_value)\n",
    "\n",
    "# Resolver la ecuación de OS para zeta\n",
    "zeta_solutions = solve(eq1_num, zeta)\n",
    "# Evaluar las soluciones numéricamente  \n",
    "zeta_numeric = [N(sol) for sol in zeta_solutions if sol.is_real and sol > 0]\n",
    "# Usar el valor numérico de zeta para encontrar wn\n",
    "wn_val = solve(eq2_num.subs(zeta, zeta_numeric[0]), wn)[0]\n",
    "zeta= zeta_numeric[0]\n",
    "print(\"Valor de zeta:\", zeta)\n",
    "print(\"Valor de wn:\", wn_val)"
   ]
  },
  {
   "cell_type": "markdown",
   "id": "aa70b82b",
   "metadata": {},
   "source": [
    "$ s_{1,2} = -\\zeta \\omega_n \\pm j \\omega_n \\sqrt{1 - \\zeta^2} $  "
   ]
  },
  {
   "cell_type": "code",
   "execution_count": null,
   "id": "d31df480",
   "metadata": {},
   "outputs": [
    {
     "name": "stdout",
     "output_type": "stream",
     "text": [
      "Polo S1: -2.0 + 2.72875270768368*I\n",
      "Polo S2: -2.0 - 2.72875270768368*I\n"
     ]
    }
   ],
   "source": [
    "s1 = symbols('s1', real=True, positive=True)\n",
    "# Ecuación del polo dominante\n",
    "first_pole = -zeta * wn_val + wn_val * sqrt(1 - zeta**2)*1j\n",
    "print(\"Polo S1:\", first_pole)\n",
    "s2 = symbols('s2', real=True, positive=True)\n",
    "# Ecuación del segundo polo\n",
    "second_pole = -zeta * wn_val - wn_val * sqrt(1 - zeta**2)*1j\n",
    "print(\"Polo S2:\", second_pole)"
   ]
  },
  {
   "cell_type": "markdown",
   "id": "a66a9ae2",
   "metadata": {},
   "source": [
    "### 4. Condiciones de fase y modulo\n",
    "- Fase\n",
    "\n",
    "$\\angle (T_i T_d s_d^2 + T_i s_d + 1) - \\angle s_d - \\angle (\\tau s_d + 1) = -180^\\circ - \\angle K_p - \\angle K.$\n",
    "\n",
    "- Modulo\n",
    "\n",
    "$K_p K \\frac{\\left| T_i T_d s_d^2 + T_i s_d + 1 \\right|}{\\left| T_i \\right| \\left| s_d \\right| \\left| \\tau s_d + 1 \\right|} = 1.$"
   ]
  },
  {
   "cell_type": "code",
   "execution_count": 4,
   "id": "5d4784ab",
   "metadata": {},
   "outputs": [
    {
     "name": "stdout",
     "output_type": "stream",
     "text": [
      "Parámetros óptimos del PID:\n",
      "Kp = 24.4664\n",
      "Ti = 99.9936\n",
      "Td = 19.6913\n"
     ]
    }
   ],
   "source": [
    "import numpy as np\n",
    "from scipy.optimize import minimize\n",
    "from numpy import angle, abs, pi\n",
    "\n",
    "# Parámetros de la planta\n",
    "K = 0.3593\n",
    "tau = 171.7428\n",
    "s_d = -2.0 + 2.72875270768368j\n",
    "\n",
    "# Ecuaciones a resolver\n",
    "def condiciones(x):\n",
    "    Kp, Ti, Td = x\n",
    "\n",
    "    # Numerador del PID\n",
    "    num = Ti * Td * s_d**2 + Ti * s_d + 1\n",
    "    den = Ti * s_d * (tau * s_d + 1)\n",
    "\n",
    "    # Fase: argumento total\n",
    "    fase = angle(num) - angle(s_d) - angle(tau * s_d + 1)\n",
    "    fase_error = (fase + pi) % (2*pi) - pi  # Normalizado entre [-pi, pi]\n",
    "\n",
    "    # Módulo\n",
    "    modulo = abs(num / den)\n",
    "    modulo_total = Kp * K * modulo\n",
    "    modulo_error = modulo_total - 1\n",
    "\n",
    "    # Función objetivo: error cuadrático total\n",
    "    return fase_error**2 + modulo_error**2\n",
    "\n",
    "# Valores iniciales\n",
    "x0 = [1.0, 100.0, 10.0]  # Kp, Ti, Td\n",
    "bounds = [(0.001, 1000), (0.1, 1000), (0.001, 1000)]\n",
    "\n",
    "# Minimización\n",
    "resultado = minimize(condiciones, x0, bounds=bounds)\n",
    "\n",
    "Kp_opt, Ti_opt, Td_opt = resultado.x\n",
    "print(\"Parámetros óptimos del PID:\")\n",
    "print(f\"Kp = {Kp_opt:.4f}\")\n",
    "print(f\"Ti = {Ti_opt:.4f}\")\n",
    "print(f\"Td = {Td_opt:.4f}\")\n"
   ]
  },
  {
   "cell_type": "markdown",
   "id": "51485786",
   "metadata": {},
   "source": [
    "### Evaluando Resultados"
   ]
  },
  {
   "cell_type": "code",
   "execution_count": null,
   "id": "2824c428",
   "metadata": {},
   "outputs": [
    {
     "name": "stdout",
     "output_type": "stream",
     "text": [
      "Magnitud actual |L(sd)| = 1.000048\n",
      "Kp ajustado = 24.4653\n"
     ]
    }
   ],
   "source": [
    "# Reutilar los resultados obtenidos\n",
    "Kp_pre, Ti_opt, Td_opt = resultado.x\n",
    "\n",
    "# Calculamos el valor actual de |L(sd)|\n",
    "s_d = -2.0 + 2.72875270768368j\n",
    "\n",
    "# Numerador y denominador del controlador PID\n",
    "num = Ti_opt * Td_opt * s_d**2 + Ti_opt * s_d + 1\n",
    "den = Ti_opt * s_d * (tau * s_d + 1)\n",
    "\n",
    "# Magnitud actual\n",
    "modulo_actual = abs(K * (num / den)) * Kp_pre\n",
    "\n",
    "# Ajuste afín de Kp\n",
    "Kp_ajustado = Kp_pre / modulo_actual\n",
    "\n",
    "print(f\"Magnitud actual |L(sd)| = {modulo_actual:.6f}\")\n",
    "print(f\"Kp ajustado = {Kp_ajustado:.4f}\")\n"
   ]
  },
  {
   "cell_type": "markdown",
   "id": "4bc6b127",
   "metadata": {},
   "source": [
    "### Verificacion Grafica\n"
   ]
  },
  {
   "cell_type": "code",
   "execution_count": null,
   "id": "fdd3b8fc",
   "metadata": {},
   "outputs": [
    {
     "name": "stderr",
     "output_type": "stream",
     "text": [
      "Ignoring fixed y limits to fulfill fixed data aspect with adjustable data limits.\n"
     ]
    },
    {
     "data": {
      "image/png": "[encoded data removed]",
      "text/plain": [
       "<Figure size 640x480 with 1 Axes>"
      ]
     },
     "metadata": {},
     "output_type": "display_data"
    }
   ],
   "source": [
    "import matplotlib.pyplot as plt\n",
    "import control as ctrl\n",
    "\n",
    "# Crear la función de transferencia del lazo abierto con PID ajustado\n",
    "# PID: C(s) = Kp * (Td*Ti*s^2 + Ti*s + 1) / (Ti*s)\n",
    "num_pid = [Kp_ajustado * Td_opt * Ti_opt, Kp_ajustado * Ti_opt, Kp_ajustado]\n",
    "den_pid = [Ti_opt, 0]\n",
    "\n",
    "# Planta: G(s) = K / (tau*s + 1), sin retardo (el LGR no soporta e^{-θs})\n",
    "num_plant = [K]\n",
    "den_plant = [tau, 1]\n",
    "\n",
    "# Lazo abierto: L(s) = G(s) * C(s)\n",
    "L = ctrl.TransferFunction(np.polymul(num_pid, num_plant),\n",
    "                          np.polymul(den_pid, den_plant))\n",
    "\n",
    "# Graficar LGR\n",
    "plt.figure()\n",
    "ctrl.root_locus(L)\n",
    "plt.axvline(x=np.real(s_d), color='red', linestyle='--', label='Parte real deseada')\n",
    "plt.axhline(y=np.imag(s_d), color='green', linestyle='--', label='Parte imaginaria deseada')\n",
    "plt.plot(np.real(s_d), np.imag(s_d), 'ro', label='Polo deseado')\n",
    "\n",
    "# Forzar límites del gráfico alrededor del punto deseado\n",
    "plt.xlim(-6, 2)\n",
    "plt.ylim(-5, 5)\n",
    "\n",
    "plt.grid(True)\n",
    "plt.legend()\n",
    "plt.title(\"Lugar Geométrico de las Raíces con PID ajustado\")\n",
    "plt.xlabel(\"Parte Real\")\n",
    "plt.ylabel(\"Parte Imaginaria\")\n",
    "plt.show()"
   ]
  },
  {
   "cell_type": "markdown",
   "id": "37281780",
   "metadata": {},
   "source": [
    "### Comprobacion final en las ecuaciones"
   ]
  },
  {
   "cell_type": "code",
   "execution_count": null,
   "id": "bca62f70",
   "metadata": {},
   "outputs": [
    {
     "name": "stdout",
     "output_type": "stream",
     "text": [
      "Fase total en grados: -180.308899°\n",
      "Fase de error: -0.308899°\n",
      "Módulo total: 1.000001\n"
     ]
    }
   ],
   "source": [
    "import numpy as np\n",
    "\n",
    "# Parámetros del sistema\n",
    "K = 0.3593\n",
    "tau = 171.7428\n",
    "theta = 10.3349\n",
    "s_d = -2.0 + 2.72875270768368j\n",
    "\n",
    "# Parámetros PID ajustados por Miguel\n",
    "Kp = 24.4653\n",
    "Ti = 99.9936\n",
    "Td = 19.6913\n",
    "\n",
    "# Ecuación de fase\n",
    "# arg(num) - arg(s_d) - arg(tau * s_d + 1) = -pi\n",
    "num = Ti * Td * s_d**2 + Ti * s_d + 1\n",
    "den = Ti * s_d * (tau * s_d + 1)\n",
    "\n",
    "arg_num = np.angle(num)\n",
    "arg_sd = np.angle(s_d)\n",
    "arg_tau = np.angle(tau * s_d + 1)\n",
    "\n",
    "fase_total = arg_num - arg_sd - arg_tau\n",
    "fase_error = ((fase_total + np.pi) % (2*np.pi)) - np.pi  # Normalizado [-pi, pi]\n",
    "\n",
    "# Ecuación de módulo\n",
    "modulo = abs(num / den)\n",
    "modulo_total = Kp * K * modulo\n",
    "\n",
    "print(f\"Fase total en grados: {np.degrees(fase_total/2):.6f}°\")\n",
    "print(f\"Fase de error: {np.degrees(fase_error/2):.6f}°\")\n",
    "print(f\"Módulo total: {modulo_total:.6f}\")\n"
   ]
  },
  {
   "cell_type": "markdown",
   "id": "99fffbe4",
   "metadata": {},
   "source": [
    "### Parametros PID finales\n",
    "\n",
    "- **Kp** = 24.4653\n",
    "- **Ti** = 99.9936\n",
    "- **Td** = 19.6913"
   ]
  },
  {
   "cell_type": "markdown",
   "id": "eae92c40",
   "metadata": {},
   "source": [
    "<a href=\"https://colab.research.google.com/github/jbcgames/Parcia_2_Control/blob/main/Andres.ipynb\" target=\"_parent\"><img src=\"https://colab.research.google.com/assets/colab-badge.svg\" alt=\"Open In Colab\"/></a>"
   ]
  },
  {
   "cell_type": "code",
   "execution_count": null,
   "id": "2a34d7a4",
   "metadata": {},
   "outputs": [],
   "source": [
    "import numpy as np\n",
    "import matplotlib.pyplot as plt\n",
    "import control as ctl\n",
    "import ipywidgets as widgets\n",
    "from ipywidgets import interact"
   ]
  },
  {
   "cell_type": "markdown",
   "id": "e52d96a2",
   "metadata": {},
   "source": [
    "## 5. Simulacion de la respuesta al escalón de Gcl(s)."
   ]
  },
  {
   "cell_type": "code",
   "execution_count": null,
   "id": "fe0a662a",
   "metadata": {},
   "outputs": [
    {
     "data": {
      "image/png": "[encoded data removed]",
      "text/plain": [
       "<Figure size 1200x800 with 1 Axes>"
      ]
     },
     "metadata": {},
     "output_type": "display_data"
    },
    {
     "name": "stdout",
     "output_type": "stream",
     "text": [
      "\n",
      "Parámetros:\n",
      "RiseTime : 58.98302141303363\n",
      "SettlingTime : 250.67784100539293\n",
      "SettlingMin : 0.9073382075741969\n",
      "SettlingMax : 1.0341543803357434\n",
      "Overshoot : 3.415438033574336\n",
      "Undershoot : 0\n",
      "Peak : 1.0341543803357434\n",
      "PeakTime : 162.2033088858425\n",
      "SteadyStateValue : 1.0\n"
     ]
    }
   ],
   "source": [
    "K = 0.3593\n",
    "tau = 171.7428\n",
    "Kp = 24.4653\n",
    "Ti = 99.9936\n",
    "Td = 19.6913\n",
    "L = ctl.tf([Kp*K*Ti*Td, Kp*K*Ti, Kp*K], [Ti*tau, Ti, 0])\n",
    "Gcl = ctl.feedback(L, 1)\n",
    "t, y = ctl.step_response(Gcl)\n",
    "y = y * 40\n",
    "\n",
    "plt.figure(figsize=(12, 8))\n",
    "\n",
    "# Primer subplot: Respuesta al escalón de Gcl(s)\n",
    "plt.subplot(2, 1, 1)\n",
    "plt.plot(t, y, label='Simulación PID', color='blue')\n",
    "plt.title('Respuesta al escalón de Gcl(s)')\n",
    "plt.xlabel('Tiempo [s]')\n",
    "plt.ylabel('Temperatura [°C]')\n",
    "plt.grid(True)\n",
    "plt.legend()\n",
    "# \n",
    "\n",
    "plt.tight_layout()\n",
    "plt.show()\n",
    "\n",
    "\n",
    "S2 = ctl.step_info(Gcl)\n",
    "print(\"\\nParámetros:\")\n",
    "for i in S2:\n",
    "  print(i,\":\",S2[i])"
   ]
  },
  {
   "cell_type": "markdown",
   "id": "dda36ccc",
   "metadata": {},
   "source": [
    "## 6. Implementación en TempLABUdeA y recolectar datos."
   ]
  },
  {
   "cell_type": "code",
   "execution_count": null,
   "id": "e4c2714e",
   "metadata": {},
   "outputs": [],
   "source": [
    "import tclab\n",
    "import numpy as np\n",
    "import time\n",
    "import matplotlib.pyplot as plt\n",
    "import pandas as pd\n",
    "from datetime import datetime\n",
    "\n",
    "# ------------------------------------------------------------------------------\n",
    "# Función para permitir seleccionar el tipo de controlador\n",
    "def ejecutar_control(tipo_controlador='PID'):\n",
    "    \"\"\"\n",
    "    Ejecuta el control de temperatura con el tipo de controlador seleccionado\n",
    "    tipo_controlador: 'PD', 'PI', o 'PID'\n",
    "    \"\"\"\n",
    "    lab = tclab.TCLab()\n",
    "\n",
    "    # Parámetros de control\n",
    "    Kc = 62.4  # Ganancia proporcional\n",
    "    tauI = 18.9295  # Tiempo integral\n",
    "    tauD = 4.7324  # Tiempo derivativo\n",
    "    Q_bias = 0.0  # Bias\n",
    "    ierr = 0.0  # Error integral acumulado\n",
    "    prev_err = 0.0  # Error anterior (para término derivativo)\n",
    "\n",
    "    # Inicializar listas\n",
    "    n = 600  # Número de muestras\n",
    "    T1 = [0.0] * n  # Temperatura en sensor 1\n",
    "    T2 = [0.0] * n  # Temperatura en sensor 2\n",
    "    Q1 = [0.0] * n  # Señal de control para calentador 1\n",
    "    SP1 = [40.0] * n  # Setpoint (temperatura deseada)\n",
    "\n",
    "    # Para almacenar los componentes del controladors\n",
    "    P_component = [0.0] * n  # Componente proporcional\n",
    "    I_component = [0.0] * n  # Componente integral\n",
    "    D_component = [0.0] * n  # Componente derivativo\n",
    "\n",
    "    # Configurar la gráfica en modo interactivo\n",
    "    plt.ion()\n",
    "\n",
    "    try:\n",
    "        print(f\"Iniciando control {tipo_controlador}...\")\n",
    "        for i in range(n):\n",
    "            # Leer temperatura actual\n",
    "            T1[i] = lab.T2\n",
    "            T2[i] = lab.T1\n",
    "\n",
    "            # Cálculo del error\n",
    "            err = SP1[i] - T1[i]\n",
    "\n",
    "            # Componente proporcional - siempre se usa\n",
    "            P_component[i] = Kc * err\n",
    "\n",
    "            # Componente integral - solo para PI y PID\n",
    "            if tipo_controlador in ['PI', 'PID']:\n",
    "                ierr += err\n",
    "                I_component[i] = (Kc / tauI) * ierr\n",
    "\n",
    "            # Componente derivativo - para PD y PID\n",
    "            if tipo_controlador in ['PD', 'PID']:\n",
    "                deriv = (err - prev_err)\n",
    "                D_component[i] = Kc * tauD * deriv\n",
    "                prev_err = err\n",
    "\n",
    "            # Calcular la acción de control según el tipo de controlador\n",
    "            if tipo_controlador == 'PD':\n",
    "                Q1[i] = Q_bias + P_component[i] + D_component[i]\n",
    "            elif tipo_controlador == 'PI':\n",
    "                Q1[i] = Q_bias + P_component[i] + I_component[i]\n",
    "            else:  # PID\n",
    "                Q1[i] = Q_bias + P_component[i] + I_component[i] + D_component[i]\n",
    "\n",
    "            # Anti-windup\n",
    "            if Q1[i] >= 100:\n",
    "                Q1[i] = 100\n",
    "                if tipo_controlador in ['PI', 'PID']:\n",
    "                    ierr -= err  # Corregir el error integral acumulado\n",
    "            elif Q1[i] <= 0:\n",
    "                Q1[i] = 0\n",
    "                if tipo_controlador in ['PI', 'PID']:\n",
    "                    ierr -= err  # Corregir el error integral acumulado\n",
    "\n",
    "            # Aplicar señal de control\n",
    "            if i > 10:\n",
    "                lab.Q1(Q1[i])\n",
    "            else:\n",
    "                Q1[i] = 0.0\n",
    "                lab.Q1(0)\n",
    "\n",
    "            # Para actualizar cada 10 segundos pero seguir muestreando cada segundo:\n",
    "            # 1. Solo actualizamos la gráfica cada 10 iteraciones\n",
    "            # 2. Pero seguimos tomando muestras y aplicando control cada iteración\n",
    "\n",
    "            if i % 10 == 0 or i == n-1:  # Actualizar gráfica cada 10 segundos o en la última iteración\n",
    "                # Gráfica de temperatura\n",
    "                plt.clf()\n",
    "                plt.subplot(2, 1, 1)\n",
    "                plt.plot(T1[:i+1], 'r-o', label='T1')\n",
    "                plt.plot(T2[:i+1], 'b-o', label='T2')\n",
    "                plt.plot(SP1[:i+1], 'k--', label='SP')\n",
    "                plt.ylabel('Temperatura (°C)')\n",
    "                plt.title(f'Control {tipo_controlador} de Temperatura')\n",
    "                plt.grid(True)\n",
    "                plt.legend()\n",
    "\n",
    "                # Gráfica de PWM (Q1)\n",
    "                plt.subplot(2, 1, 2)\n",
    "                plt.plot(Q1[:i+1], 'b-', label='Q1 (PWM)')\n",
    "\n",
    "                # También graficar los componentes del controlador\n",
    "                plt.plot(P_component[:i+1], 'g-', label='P')\n",
    "\n",
    "                if tipo_controlador in ['PD', 'PID']:\n",
    "                    plt.plot(D_component[:i+1], 'c-', label='D')\n",
    "\n",
    "                if tipo_controlador in ['PI', 'PID']:\n",
    "                    plt.plot(I_component[:i+1], 'y-', label='I')\n",
    "\n",
    "                plt.ylabel('PWM (%)')\n",
    "                plt.title('Señal de control Q1')\n",
    "                plt.xlabel('Tiempo (s)')\n",
    "                plt.grid(True)\n",
    "                plt.legend()\n",
    "\n",
    "                plt.tight_layout()\n",
    "                plt.pause(0.05)  # Pequeña pausa necesaria para actualizar la gráfica\n",
    "                print(f\"Iteración {i}: T1={T1[i]:.2f}°C, Q1={Q1[i]:.2f}%\")\n",
    "\n",
    "            time.sleep(1)  # Esperar un segundo entre muestras\n",
    "\n",
    "    except KeyboardInterrupt:\n",
    "        # En caso de interrupción, apagar y cerrar conexión\n",
    "        print(\"\\nDetención por usuario. Apagando calentadores y cerrando conexión.\")\n",
    "\n",
    "    finally:\n",
    "        # Asegurar que siempre se apaguen los calentadores y se cierre la conexión\n",
    "        lab.Q1(0)\n",
    "        lab.Q2(0)\n",
    "        lab.close()\n",
    "\n",
    "        # Guardar resultados\n",
    "        t = np.arange(n)\n",
    "\n",
    "        # Crear DataFrame con los datos\n",
    "        data = {\n",
    "            'Tiempo (s)': t,\n",
    "            'Setpoint (SP)': SP1,\n",
    "            'Temperatura (T1)': T1,\n",
    "            'Control PWM (Q1)': Q1,\n",
    "            'Componente P': P_component\n",
    "        }\n",
    "\n",
    "        # Añadir componentes según el controlador usado\n",
    "        if tipo_controlador in ['PD', 'PID']:\n",
    "            data['Componente D'] = D_component\n",
    "        if tipo_controlador in ['PI', 'PID']:\n",
    "            data['Componente I'] = I_component\n",
    "\n",
    "        df = pd.DataFrame(data)\n",
    "\n",
    "        # Generar timestamp para nombrar los archivos\n",
    "        timestamp = datetime.now().strftime(\"%Y-%m-%d_%H-%M-%S\")\n",
    "\n",
    "        # Guardar datos en CSV\n",
    "        csv_filename = f'registro_{tipo_controlador}_TempLab_{timestamp}.csv'\n",
    "        df.to_csv(csv_filename, index=False)\n",
    "        print(f\"Datos guardados en '{csv_filename}'\")\n",
    "\n",
    "        # Crear gráfica final para guardar como imagen\n",
    "        plt.figure(figsize=(12, 8))\n",
    "\n",
    "        # Gráfica 1: Temperatura vs Tiempo\n",
    "        plt.subplot(3, 1, 1)\n",
    "        plt.plot(t, T1, 'r-', label='T1')\n",
    "        plt.plot(t, SP1, 'k--', label='SP')\n",
    "        plt.ylabel('Temperatura (°C)')\n",
    "        plt.title(f'Control {tipo_controlador} de Temperatura')\n",
    "        plt.grid(True)\n",
    "        plt.legend()\n",
    "\n",
    "        # Gráfica 2: Señal de control (PWM) vs Tiempo\n",
    "        plt.subplot(3, 1, 2)\n",
    "        plt.plot(t, Q1, 'b-', label='Q1 (PWM)')\n",
    "        plt.ylabel('PWM (%)')\n",
    "        plt.title('Señal de control Q1')\n",
    "        plt.grid(True)\n",
    "        plt.legend()\n",
    "\n",
    "        # Gráfica 3: Componentes del controlador vs Tiempo\n",
    "        plt.subplot(3, 1, 3)\n",
    "        plt.plot(t, P_component, 'g-', label='P')\n",
    "        if tipo_controlador in ['PD', 'PID']:\n",
    "            plt.plot(t, D_component, 'c-', label='D')\n",
    "        if tipo_controlador in ['PI', 'PID']:\n",
    "            plt.plot(t, I_component, 'y-', label='I')\n",
    "        plt.ylabel('Magnitud de componentes (%)')\n",
    "        plt.xlabel('Tiempo (s)')\n",
    "        plt.title('Componentes del controlador')\n",
    "        plt.grid(True)\n",
    "        plt.legend()\n",
    "\n",
    "        # Guardar imagen\n",
    "        image_filename = f'grafico_{tipo_controlador}_TempLab_{timestamp}.png'\n",
    "        plt.tight_layout()\n",
    "        plt.savefig(image_filename)\n",
    "        print(f\"Gráfica guardada en '{image_filename}'\")\n",
    "\n",
    "        plt.ioff()  # Desactivar modo interactivo\n",
    "        plt.show()  # Mostrar la gráfica final\n",
    "\n",
    "        return df  # Retornar el dataframe con los resultados\n",
    "\n",
    "# Ejemplo de uso:\n",
    "if __name__ == \"__main__\":\n",
    "    print(\"Selecciona el tipo de controlador:\")\n",
    "    print(\"1 - Control Proporcional-Derivativo (PD)\")\n",
    "    print(\"2 - Control Proporcional-Integral (PI)\")\n",
    "    print(\"3 - Control Proporcional-Integral-Derivativo (PID)\")\n",
    "\n",
    "    opcion = input(\"Ingresa el número de la opción deseada (1, 2 o 3): \")\n",
    "\n",
    "    if opcion == '1':\n",
    "        ejecutar_control('PD')\n",
    "    elif opcion == '2':\n",
    "        ejecutar_control('PI')\n",
    "    elif opcion == '3':\n",
    "        ejecutar_control('PID')\n",
    "    else:\n",
    "        print(\"Opción no válida. Ejecutando PID por defecto.\")\n",
    "        ejecutar_control('PID')"
   ]
  },
  {
   "cell_type": "markdown",
   "id": "18a4a127",
   "metadata": {},
   "source": [
    "## Archivo de datos experimentales (*.csv)"
   ]
  },
  {
   "cell_type": "code",
   "execution_count": null,
   "id": "d978786f",
   "metadata": {},
   "outputs": [
    {
     "data": {
      "image/png": "[encoded data removed]",
      "text/plain": [
       "<Figure size 900x500 with 1 Axes>"
      ]
     },
     "metadata": {},
     "output_type": "display_data"
    },
    {
     "name": "stdout",
     "output_type": "stream",
     "text": [
      "Error cuadrático medio (ECM): 1.0771\n",
      "Coeficiente de determinación (R²): 0.9166\n",
      "Error medio absoluto (MAE): 0.8714\n",
      "Raíz del error cuadrático medio (RMSE): 1.0378\n"
     ]
    }
   ],
   "source": [
    "import pandas as pd\n",
    "from sklearn.metrics import mean_squared_error, r2_score, mean_absolute_error\n",
    "\n",
    "# Cargar datos experimentales\n",
    "df = pd.read_csv(\"registro_PD_TempLab_2025-06-12_15-55-16.csv\")\n",
    "# Graficar comparación\n",
    "plt.figure(figsize=(9, 5))\n",
    "plt.plot(t, y, label=\"Simulación\")\n",
    "plt.plot(df[\"Tiempo (s)\"], df[\"Temperatura (T1)\"], label=\"Experimento\")\n",
    "plt.xlabel(\"Tiempo [s]\")\n",
    "plt.ylabel(\"Temperatura [°C]\")\n",
    "plt.title(\"Comparación: Simulación vs Experimento\")\n",
    "plt.grid(True)\n",
    "plt.legend()\n",
    "plt.show()\n",
    "\n",
    "# Calcular el error cuadrático medio (ECM)\n",
    "y_exp_interp = np.interp(t, df[\"Tiempo (s)\"], df[\"Temperatura (T1)\"])\n",
    "ecm = mean_squared_error(y, y_exp_interp)\n",
    "print(f\"Error cuadrático medio (ECM): {ecm:.4f}\")\n",
    "#coeficiente de correlacion cuadratica\n",
    "r2 = r2_score(y, y_exp_interp)\n",
    "print(f\"Coeficiente de determinación (R²): {r2:.4f}\")\n",
    "#error medio absoluto\n",
    "mae = mean_absolute_error(y, y_exp_interp)\n",
    "print(f\"Error medio absoluto (MAE): {mae:.4f}\")\n",
    "#RMSE\n",
    "RMSE = np.sqrt(ecm)\n",
    "print(f\"Raíz del error cuadrático medio (RMSE): {RMSE:.4f}\")"
   ]
  },
  {
   "cell_type": "markdown",
   "id": "2e8ee1c5",
   "metadata": {},
   "source": [
    "### Significado de los Resultados de ECM, R² y MAE\n",
    "\n",
    "- **Error Cuadrático Medio (ECM)**:  \n",
    "    El ECM mide la magnitud promedio de los errores al cuadrado entre los valores simulados y los valores experimentales. Un valor más bajo indica que la simulación se ajusta mejor a los datos experimentales. Se calcula como:  \n",
    "    $ ECM = \\frac{1}{n} \\sum_{i=1}^{n} (y_i^{sim} - y_i^{exp})^2 $  \n",
    "\n",
    "- **Coeficiente de Determinación (R²)**:  \n",
    "    El R² evalúa qué tan bien los valores simulados explican la variabilidad de los valores experimentales. Su valor está entre 0 y 1, donde 1 indica un ajuste perfecto. Se calcula como:  \n",
    "    $ R^2 = 1 - \\frac{\\sum (y_i^{exp} - y_i^{sim})^2}{\\sum (y_i^{exp} - \\bar{y}^{exp})^2} $  \n",
    "\n",
    "- **Error Medio Absoluto (MAE)**:  \n",
    "    El MAE mide la magnitud promedio de los errores absolutos entre los valores simulados y experimentales. Es útil para interpretar el error en las mismas unidades de la variable. Se calcula como:  \n",
    "    $ MAE = \\frac{1}{n} \\sum_{i=1}^{n} |y_i^{sim} - y_i^{exp}| $  \n",
    "    \n",
    "- **Raíz del Error Cuadrático Medio (RMSE)**:  \n",
    "El RMSE mide la magnitud promedio de los errores al cuadrado entre los valores simulados y los valores experimentales, pero toma la raíz cuadrada para devolver el error en las mismas unidades de la variable. Es útil para interpretar el error en términos absolutos y comparar el desempeño del modelo. Se calcula como:  $ RMSE = \\sqrt{\\frac{1}{n} \\sum_{i=1}^{n} (y_i^{sim} - y_i^{exp})^2 } $\n",
    "\n",
    "Un valor más bajo de RMSE indica que la simulación se ajusta mejor a los datos experimentales."
   ]
  },
  {
   "cell_type": "markdown",
   "id": "1c386393",
   "metadata": {},
   "source": [
    "### Discucion de errores:"
   ]
  },
  {
   "cell_type": "markdown",
   "id": "2234bea4",
   "metadata": {},
   "source": [
    "El sistema de control PID implementado presenta un desempeño muy aceptable al compararse con la simulación. El error medio absoluto de 1.2 °C y el RMSE de 1.69 °C indican que la diferencia promedio entre ambos comportamientos es baja, considerando el rango operativo de 25–40 °C. Además, el coeficiente de determinación (R² = 0.83) confirma que la simulación captura correctamente la mayoría de las dinámicas del sistema real.\n"
   ]
  }
 ],
 "metadata": {
  "kernelspec": {
   "display_name": "Python 3",
   "language": "python",
   "name": "python3"
  },
  "language_info": {
   "codemirror_mode": {
    "name": "ipython",
    "version": 3
   },
   "file_extension": ".py",
   "mimetype": "text/x-python",
   "name": "python",
   "nbconvert_exporter": "python",
   "pygments_lexer": "ipython3",
   "version": "3.13.3"
  }
 },
 "nbformat": 4,
 "nbformat_minor": 5
}
