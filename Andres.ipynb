{
 "cells": [
  {
   "cell_type": "markdown",
   "id": "9a6a1655",
   "metadata": {},
   "source": [
    "Responsabilidades:\n",
    "- Simular la respuesta al escalón de Gcl(s) con los valores hallados.\n",
    "- Implementar el PID en el script de TempLABUdeA.\n",
    "- Realizar la prueba práctica, recolectar los datos de temperatura y control.\n",
    "- Comparar los datos experimentales con la simulación (gráficas, %OS, Ts).\n",
    "\n",
    "Entregables:\n",
    "- Código de simulación y control.\n",
    "- Archivos CSV de los datos experimentales.\n",
    "- Gráficas comparativas: simulación vs experimento."
   ]
  }
 ],
 "metadata": {
  "language_info": {
   "name": "python"
  }
 },
 "nbformat": 4,
 "nbformat_minor": 5
}
